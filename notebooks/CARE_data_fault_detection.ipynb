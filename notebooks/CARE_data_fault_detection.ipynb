{
 "cells": [
  {
   "cell_type": "code",
   "execution_count": 21,
   "metadata": {},
   "outputs": [],
   "source": [
    "import numpy as np\n",
    "import pandas as pd\n",
    "import polars as pl\n",
    "import matplotlib.pyplot as plt\n",
    "import os\n",
    "import zipfile\n",
    "import warnings\n",
    "warnings.filterwarnings(\"ignore\")\n",
    "import wtphm\n",
    "import data.data_processing as get"
   ]
  },
  {
   "cell_type": "code",
   "execution_count": 2,
   "metadata": {},
   "outputs": [],
   "source": [
    "# auto reload modules\n",
    "%load_ext autoreload\n",
    "%autoreload 2"
   ]
  },
  {
   "cell_type": "code",
   "execution_count": 3,
   "metadata": {},
   "outputs": [
    {
     "name": "stdout",
     "output_type": "stream",
     "text": [
      "['Guck_et_al', 'SCADA', 'WTPHM', '__builtins__', '__cached__', '__doc__', '__file__', '__loader__', '__name__', '__package__', '__spec__', 'get_vibration', 'os', 'partial', 'pd', 'pl']\n"
     ]
    }
   ],
   "source": [
    "print(dir(get))"
   ]
  },
  {
   "cell_type": "markdown",
   "metadata": {},
   "source": [
    "For the anomaly detection data sets, each file in `Wind Farm {}/datasets` represents an individual turbine."
   ]
  },
  {
   "cell_type": "code",
   "execution_count": 18,
   "metadata": {},
   "outputs": [],
   "source": [
    "guck = get.Guck_et_al(\"All\")\n",
    "all_wind_farms = guck.get_data(collect=False)"
   ]
  },
  {
   "cell_type": "code",
   "execution_count": 19,
   "metadata": {},
   "outputs": [
    {
     "data": {
      "text/plain": [
       "dict_keys(['A', 'B', 'C'])"
      ]
     },
     "execution_count": 19,
     "metadata": {},
     "output_type": "execute_result"
    }
   ],
   "source": [
    "all_wind_farms.keys()"
   ]
  },
  {
   "cell_type": "code",
   "execution_count": 20,
   "metadata": {},
   "outputs": [],
   "source": [
    "wind_farm_a, wind_farm_b, wind_farm_c = all_wind_farms['A'], all_wind_farms['B'], all_wind_farms['C']"
   ]
  },
  {
   "cell_type": "code",
   "execution_count": 25,
   "metadata": {},
   "outputs": [
    {
     "name": "stdout",
     "output_type": "stream",
     "text": [
      "shape: (5, 86)\n",
      "┌────────────┬──────────┬─────┬────────────┬───┬────────────┬────────────┬────────────┬────────────┐\n",
      "│ time_stamp ┆ asset_id ┆ id  ┆ train_test ┆ … ┆ sensor_52_ ┆ sensor_52_ ┆ sensor_52_ ┆ sensor_53_ │\n",
      "│ ---        ┆ ---      ┆ --- ┆ ---        ┆   ┆ max        ┆ min        ┆ std        ┆ avg        │\n",
      "│ datetime[μ ┆ i64      ┆ i64 ┆ str        ┆   ┆ ---        ┆ ---        ┆ ---        ┆ ---        │\n",
      "│ s]         ┆          ┆     ┆            ┆   ┆ f64        ┆ f64        ┆ f64        ┆ f64        │\n",
      "╞════════════╪══════════╪═════╪════════════╪═══╪════════════╪════════════╪════════════╪════════════╡\n",
      "│ 2013-10-10 ┆ 10       ┆ 22  ┆ train      ┆ … ┆ 12.8       ┆ 10.8       ┆ 0.5        ┆ 28.0       │\n",
      "│ 12:20:00   ┆          ┆     ┆            ┆   ┆            ┆            ┆            ┆            │\n",
      "│ 2013-10-10 ┆ 10       ┆ 23  ┆ train      ┆ … ┆ 13.5       ┆ 11.1       ┆ 0.6        ┆ 28.0       │\n",
      "│ 12:30:00   ┆          ┆     ┆            ┆   ┆            ┆            ┆            ┆            │\n",
      "│ 2013-10-10 ┆ 10       ┆ 24  ┆ train      ┆ … ┆ 14.2       ┆ 10.9       ┆ 0.7        ┆ 28.0       │\n",
      "│ 12:40:00   ┆          ┆     ┆            ┆   ┆            ┆            ┆            ┆            │\n",
      "│ 2013-10-10 ┆ 10       ┆ 25  ┆ train      ┆ … ┆ 13.4       ┆ 10.9       ┆ 0.6        ┆ 29.0       │\n",
      "│ 12:50:00   ┆          ┆     ┆            ┆   ┆            ┆            ┆            ┆            │\n",
      "│ 2013-10-10 ┆ 10       ┆ 26  ┆ train      ┆ … ┆ 13.7       ┆ 10.9       ┆ 0.7        ┆ 29.0       │\n",
      "│ 13:00:00   ┆          ┆     ┆            ┆   ┆            ┆            ┆            ┆            │\n",
      "└────────────┴──────────┴─────┴────────────┴───┴────────────┴────────────┴────────────┴────────────┘\n"
     ]
    }
   ],
   "source": [
    "# Using a lazy DataFrame\n",
    "lazy_df = wind_farm_a['dataset_10']\n",
    "# Perform further lazy operations if needed\n",
    "result = lazy_df.filter(pl.col('wind_speed_3_avg') > 5).collect()\n",
    "print(result.head())"
   ]
  },
  {
   "cell_type": "code",
   "execution_count": 14,
   "metadata": {},
   "outputs": [
    {
     "data": {
      "text/html": [
       "<div><style>\n",
       ".dataframe > thead > tr,\n",
       ".dataframe > tbody > tr {\n",
       "  text-align: right;\n",
       "  white-space: pre-wrap;\n",
       "}\n",
       "</style>\n",
       "<small>shape: (5, 86)</small><table border=\"1\" class=\"dataframe\"><thead><tr><th>time_stamp</th><th>asset_id</th><th>id</th><th>train_test</th><th>status_type_id</th><th>sensor_0_avg</th><th>sensor_1_avg</th><th>sensor_2_avg</th><th>wind_speed_3_avg</th><th>wind_speed_4_avg</th><th>wind_speed_3_max</th><th>wind_speed_3_min</th><th>wind_speed_3_std</th><th>sensor_5_avg</th><th>sensor_5_max</th><th>sensor_5_min</th><th>sensor_5_std</th><th>sensor_6_avg</th><th>sensor_7_avg</th><th>sensor_8_avg</th><th>sensor_9_avg</th><th>sensor_10_avg</th><th>sensor_11_avg</th><th>sensor_12_avg</th><th>sensor_13_avg</th><th>sensor_14_avg</th><th>sensor_15_avg</th><th>sensor_16_avg</th><th>sensor_17_avg</th><th>sensor_18_avg</th><th>sensor_18_max</th><th>sensor_18_min</th><th>sensor_18_std</th><th>sensor_19_avg</th><th>sensor_20_avg</th><th>sensor_21_avg</th><th>sensor_22_avg</th><th>&hellip;</th><th>power_29_avg</th><th>power_29_max</th><th>power_29_min</th><th>power_29_std</th><th>power_30_avg</th><th>power_30_max</th><th>power_30_min</th><th>power_30_std</th><th>sensor_31_avg</th><th>sensor_31_max</th><th>sensor_31_min</th><th>sensor_31_std</th><th>sensor_32_avg</th><th>sensor_33_avg</th><th>sensor_34_avg</th><th>sensor_35_avg</th><th>sensor_36_avg</th><th>sensor_37_avg</th><th>sensor_38_avg</th><th>sensor_39_avg</th><th>sensor_40_avg</th><th>sensor_41_avg</th><th>sensor_42_avg</th><th>sensor_43_avg</th><th>sensor_44</th><th>sensor_45</th><th>sensor_46</th><th>sensor_47</th><th>sensor_48</th><th>sensor_49</th><th>sensor_50</th><th>sensor_51</th><th>sensor_52_avg</th><th>sensor_52_max</th><th>sensor_52_min</th><th>sensor_52_std</th><th>sensor_53_avg</th></tr><tr><td>datetime[μs]</td><td>i64</td><td>i64</td><td>str</td><td>i64</td><td>f64</td><td>f64</td><td>f64</td><td>f64</td><td>f64</td><td>f64</td><td>f64</td><td>f64</td><td>f64</td><td>f64</td><td>f64</td><td>f64</td><td>f64</td><td>f64</td><td>f64</td><td>f64</td><td>f64</td><td>f64</td><td>f64</td><td>f64</td><td>f64</td><td>f64</td><td>f64</td><td>f64</td><td>f64</td><td>f64</td><td>f64</td><td>f64</td><td>f64</td><td>f64</td><td>f64</td><td>f64</td><td>&hellip;</td><td>f64</td><td>f64</td><td>f64</td><td>f64</td><td>f64</td><td>f64</td><td>f64</td><td>f64</td><td>f64</td><td>f64</td><td>f64</td><td>f64</td><td>f64</td><td>f64</td><td>f64</td><td>f64</td><td>f64</td><td>f64</td><td>f64</td><td>f64</td><td>f64</td><td>f64</td><td>f64</td><td>f64</td><td>f64</td><td>f64</td><td>f64</td><td>f64</td><td>f64</td><td>f64</td><td>f64</td><td>f64</td><td>f64</td><td>f64</td><td>f64</td><td>f64</td><td>f64</td></tr></thead><tbody><tr><td>2013-10-10 08:40:00</td><td>10</td><td>0</td><td>&quot;train&quot;</td><td>0</td><td>20.0</td><td>265.7</td><td>19.4</td><td>2.6</td><td>2.6</td><td>4.3</td><td>1.0</td><td>0.4</td><td>24.0</td><td>24.1</td><td>24.0</td><td>0.0</td><td>30.0</td><td>35.0</td><td>44.0</td><td>35.0</td><td>31.0</td><td>39.0</td><td>39.0</td><td>30.0</td><td>32.0</td><td>34.0</td><td>34.0</td><td>35.0</td><td>203.7</td><td>224.1</td><td>166.3</td><td>13.5</td><td>24.0</td><td>31.0</td><td>32.0</td><td>0.6</td><td>&hellip;</td><td>0.000976</td><td>0.017073</td><td>0.0</td><td>0.003171</td><td>-0.004</td><td>-0.003317</td><td>-0.013902</td><td>0.001707</td><td>-0.005707</td><td>-10.5</td><td>-25.4</td><td>2.1</td><td>401.6</td><td>399.7</td><td>398.1</td><td>31.0</td><td>32.0</td><td>32.0</td><td>69.0</td><td>70.0</td><td>64.0</td><td>49.0</td><td>246.3</td><td>29.0</td><td>-1371.0</td><td>0.0</td><td>0.0</td><td>-1946.0</td><td>0.0</td><td>0.0</td><td>-1371.0</td><td>-1946.0</td><td>1.8</td><td>2.0</td><td>0.0</td><td>0.2</td><td>23.0</td></tr><tr><td>2013-10-10 08:50:00</td><td>10</td><td>1</td><td>&quot;train&quot;</td><td>0</td><td>20.0</td><td>244.9</td><td>-11.8</td><td>2.6</td><td>2.6</td><td>4.9</td><td>0.7</td><td>0.5</td><td>24.0</td><td>24.1</td><td>24.0</td><td>0.0</td><td>30.0</td><td>35.0</td><td>43.0</td><td>35.0</td><td>31.0</td><td>39.0</td><td>39.0</td><td>30.0</td><td>32.0</td><td>34.0</td><td>34.0</td><td>34.0</td><td>200.2</td><td>224.1</td><td>168.0</td><td>15.0</td><td>24.0</td><td>31.0</td><td>32.0</td><td>0.6</td><td>&hellip;</td><td>0.000878</td><td>0.01322</td><td>0.0</td><td>0.002732</td><td>-0.003854</td><td>-0.003268</td><td>-0.012098</td><td>0.001756</td><td>-0.005415</td><td>-10.5</td><td>-15.4</td><td>0.9</td><td>400.3</td><td>397.8</td><td>396.6</td><td>31.0</td><td>32.0</td><td>32.0</td><td>69.0</td><td>70.0</td><td>64.0</td><td>49.0</td><td>256.8</td><td>29.0</td><td>-1309.0</td><td>0.0</td><td>0.0</td><td>-1850.0</td><td>0.0</td><td>0.0</td><td>-1309.0</td><td>-1850.0</td><td>1.8</td><td>2.0</td><td>1.5</td><td>0.1</td><td>23.0</td></tr><tr><td>2013-10-10 09:00:00</td><td>10</td><td>2</td><td>&quot;train&quot;</td><td>0</td><td>20.0</td><td>299.5</td><td>42.7</td><td>2.5</td><td>2.5</td><td>4.2</td><td>0.6</td><td>0.5</td><td>24.0</td><td>24.0</td><td>21.6</td><td>0.1</td><td>30.0</td><td>35.0</td><td>42.0</td><td>35.0</td><td>31.0</td><td>38.0</td><td>39.0</td><td>30.0</td><td>31.0</td><td>34.0</td><td>34.0</td><td>34.0</td><td>202.8</td><td>224.4</td><td>148.2</td><td>23.6</td><td>24.0</td><td>30.0</td><td>31.0</td><td>0.6</td><td>&hellip;</td><td>0.0</td><td>0.007415</td><td>0.0</td><td>0.000244</td><td>-0.004</td><td>-0.003268</td><td>-0.012341</td><td>0.001902</td><td>-0.005415</td><td>-10.6</td><td>-15.4</td><td>0.9</td><td>400.0</td><td>398.3</td><td>396.5</td><td>31.0</td><td>32.0</td><td>32.0</td><td>69.0</td><td>70.0</td><td>64.0</td><td>49.0</td><td>256.8</td><td>28.0</td><td>-1349.0</td><td>0.0</td><td>0.0</td><td>-1851.0</td><td>0.0</td><td>0.0</td><td>-1349.0</td><td>-1851.0</td><td>1.6</td><td>2.0</td><td>0.0</td><td>0.7</td><td>23.0</td></tr><tr><td>2013-10-10 09:10:00</td><td>10</td><td>3</td><td>&quot;train&quot;</td><td>0</td><td>20.0</td><td>280.2</td><td>23.5</td><td>2.5</td><td>2.5</td><td>3.8</td><td>0.6</td><td>0.4</td><td>24.0</td><td>24.1</td><td>24.0</td><td>0.0</td><td>30.0</td><td>35.0</td><td>41.0</td><td>35.0</td><td>31.0</td><td>38.0</td><td>39.0</td><td>30.0</td><td>31.0</td><td>34.0</td><td>34.0</td><td>34.0</td><td>198.3</td><td>212.4</td><td>170.4</td><td>12.0</td><td>24.0</td><td>30.0</td><td>31.0</td><td>0.6</td><td>&hellip;</td><td>0.0</td><td>0.0</td><td>0.0</td><td>0.0</td><td>-0.003854</td><td>-0.003268</td><td>-0.012439</td><td>0.00161</td><td>-0.005317</td><td>-10.4</td><td>-15.3</td><td>0.8</td><td>398.3</td><td>397.0</td><td>395.0</td><td>31.0</td><td>32.0</td><td>32.0</td><td>69.0</td><td>70.0</td><td>64.0</td><td>49.0</td><td>256.8</td><td>28.0</td><td>-1326.0</td><td>0.0</td><td>0.0</td><td>-1824.0</td><td>0.0</td><td>0.0</td><td>-1326.0</td><td>-1824.0</td><td>1.7</td><td>1.9</td><td>1.5</td><td>0.1</td><td>23.0</td></tr><tr><td>2013-10-10 09:20:00</td><td>10</td><td>4</td><td>&quot;train&quot;</td><td>0</td><td>20.0</td><td>281.1</td><td>24.3</td><td>2.7</td><td>2.7</td><td>4.2</td><td>0.9</td><td>0.3</td><td>24.0</td><td>24.0</td><td>24.0</td><td>0.0</td><td>30.0</td><td>35.0</td><td>40.0</td><td>35.0</td><td>31.0</td><td>38.0</td><td>39.0</td><td>30.0</td><td>31.0</td><td>33.0</td><td>34.0</td><td>34.0</td><td>217.4</td><td>233.4</td><td>205.2</td><td>7.9</td><td>24.0</td><td>30.0</td><td>31.0</td><td>0.6</td><td>&hellip;</td><td>0.000049</td><td>0.007951</td><td>0.0</td><td>0.000439</td><td>-0.003854</td><td>-0.003268</td><td>-0.012439</td><td>0.001707</td><td>-0.005366</td><td>-10.4</td><td>-15.3</td><td>0.9</td><td>399.1</td><td>397.9</td><td>395.9</td><td>31.0</td><td>32.0</td><td>32.0</td><td>69.0</td><td>70.0</td><td>64.0</td><td>49.0</td><td>256.8</td><td>28.0</td><td>-1324.0</td><td>0.0</td><td>0.0</td><td>-1838.0</td><td>0.0</td><td>0.0</td><td>-1324.0</td><td>-1838.0</td><td>1.9</td><td>2.1</td><td>1.8</td><td>0.1</td><td>23.0</td></tr></tbody></table></div>"
      ],
      "text/plain": [
       "shape: (5, 86)\n",
       "┌────────────┬──────────┬─────┬────────────┬───┬────────────┬────────────┬────────────┬────────────┐\n",
       "│ time_stamp ┆ asset_id ┆ id  ┆ train_test ┆ … ┆ sensor_52_ ┆ sensor_52_ ┆ sensor_52_ ┆ sensor_53_ │\n",
       "│ ---        ┆ ---      ┆ --- ┆ ---        ┆   ┆ max        ┆ min        ┆ std        ┆ avg        │\n",
       "│ datetime[μ ┆ i64      ┆ i64 ┆ str        ┆   ┆ ---        ┆ ---        ┆ ---        ┆ ---        │\n",
       "│ s]         ┆          ┆     ┆            ┆   ┆ f64        ┆ f64        ┆ f64        ┆ f64        │\n",
       "╞════════════╪══════════╪═════╪════════════╪═══╪════════════╪════════════╪════════════╪════════════╡\n",
       "│ 2013-10-10 ┆ 10       ┆ 0   ┆ train      ┆ … ┆ 2.0        ┆ 0.0        ┆ 0.2        ┆ 23.0       │\n",
       "│ 08:40:00   ┆          ┆     ┆            ┆   ┆            ┆            ┆            ┆            │\n",
       "│ 2013-10-10 ┆ 10       ┆ 1   ┆ train      ┆ … ┆ 2.0        ┆ 1.5        ┆ 0.1        ┆ 23.0       │\n",
       "│ 08:50:00   ┆          ┆     ┆            ┆   ┆            ┆            ┆            ┆            │\n",
       "│ 2013-10-10 ┆ 10       ┆ 2   ┆ train      ┆ … ┆ 2.0        ┆ 0.0        ┆ 0.7        ┆ 23.0       │\n",
       "│ 09:00:00   ┆          ┆     ┆            ┆   ┆            ┆            ┆            ┆            │\n",
       "│ 2013-10-10 ┆ 10       ┆ 3   ┆ train      ┆ … ┆ 1.9        ┆ 1.5        ┆ 0.1        ┆ 23.0       │\n",
       "│ 09:10:00   ┆          ┆     ┆            ┆   ┆            ┆            ┆            ┆            │\n",
       "│ 2013-10-10 ┆ 10       ┆ 4   ┆ train      ┆ … ┆ 2.1        ┆ 1.8        ┆ 0.1        ┆ 23.0       │\n",
       "│ 09:20:00   ┆          ┆     ┆            ┆   ┆            ┆            ┆            ┆            │\n",
       "└────────────┴──────────┴─────┴────────────┴───┴────────────┴────────────┴────────────┴────────────┘"
      ]
     },
     "execution_count": 14,
     "metadata": {},
     "output_type": "execute_result"
    }
   ],
   "source": [
    "# Print head of turbine 0\n",
    "wind_farm_a['dataset_10'].head()"
   ]
  },
  {
   "cell_type": "code",
   "execution_count": 15,
   "metadata": {},
   "outputs": [
    {
     "data": {
      "text/html": [
       "<div><style>\n",
       ".dataframe > thead > tr,\n",
       ".dataframe > tbody > tr {\n",
       "  text-align: right;\n",
       "  white-space: pre-wrap;\n",
       "}\n",
       "</style>\n",
       "<small>shape: (5, 7)</small><table border=\"1\" class=\"dataframe\"><thead><tr><th>event_id</th><th>event_label</th><th>event_start</th><th>event_start_id</th><th>event_end</th><th>event_end_id</th><th>event_description</th></tr><tr><td>i64</td><td>str</td><td>datetime[μs]</td><td>i64</td><td>datetime[μs]</td><td>i64</td><td>str</td></tr></thead><tbody><tr><td>68</td><td>&quot;anomaly&quot;</td><td>2015-07-29 13:20:00</td><td>52063</td><td>2015-08-12 13:10:00</td><td>54076</td><td>&quot;Transformer failure&quot;</td></tr><tr><td>22</td><td>&quot;anomaly&quot;</td><td>2021-08-11 09:50:00</td><td>51888</td><td>2021-08-18 10:00:00</td><td>52892</td><td>&quot;Hydraulic group&quot;</td></tr><tr><td>72</td><td>&quot;anomaly&quot;</td><td>2021-10-09 08:40:00</td><td>52497</td><td>2021-10-16 08:40:00</td><td>53505</td><td>&quot;Gearbox failure&quot;</td></tr><tr><td>73</td><td>&quot;anomaly&quot;</td><td>2023-06-09 11:40:00</td><td>52745</td><td>2023-06-16 11:40:00</td><td>53753</td><td>&quot;Hydraulic group&quot;</td></tr><tr><td>0</td><td>&quot;anomaly&quot;</td><td>2022-08-05 06:10:00</td><td>52436</td><td>2022-08-19 06:10:00</td><td>54447</td><td>&quot;Generator bearing failure&quot;</td></tr></tbody></table></div>"
      ],
      "text/plain": [
       "shape: (5, 7)\n",
       "┌──────────┬─────────────┬──────────────┬──────────────┬──────────────┬──────────────┬─────────────┐\n",
       "│ event_id ┆ event_label ┆ event_start  ┆ event_start_ ┆ event_end    ┆ event_end_id ┆ event_descr │\n",
       "│ ---      ┆ ---         ┆ ---          ┆ id           ┆ ---          ┆ ---          ┆ iption      │\n",
       "│ i64      ┆ str         ┆ datetime[μs] ┆ ---          ┆ datetime[μs] ┆ i64          ┆ ---         │\n",
       "│          ┆             ┆              ┆ i64          ┆              ┆              ┆ str         │\n",
       "╞══════════╪═════════════╪══════════════╪══════════════╪══════════════╪══════════════╪═════════════╡\n",
       "│ 68       ┆ anomaly     ┆ 2015-07-29   ┆ 52063        ┆ 2015-08-12   ┆ 54076        ┆ Transformer │\n",
       "│          ┆             ┆ 13:20:00     ┆              ┆ 13:10:00     ┆              ┆ failure     │\n",
       "│ 22       ┆ anomaly     ┆ 2021-08-11   ┆ 51888        ┆ 2021-08-18   ┆ 52892        ┆ Hydraulic   │\n",
       "│          ┆             ┆ 09:50:00     ┆              ┆ 10:00:00     ┆              ┆ group       │\n",
       "│ 72       ┆ anomaly     ┆ 2021-10-09   ┆ 52497        ┆ 2021-10-16   ┆ 53505        ┆ Gearbox     │\n",
       "│          ┆             ┆ 08:40:00     ┆              ┆ 08:40:00     ┆              ┆ failure     │\n",
       "│ 73       ┆ anomaly     ┆ 2023-06-09   ┆ 52745        ┆ 2023-06-16   ┆ 53753        ┆ Hydraulic   │\n",
       "│          ┆             ┆ 11:40:00     ┆              ┆ 11:40:00     ┆              ┆ group       │\n",
       "│ 0        ┆ anomaly     ┆ 2022-08-05   ┆ 52436        ┆ 2022-08-19   ┆ 54447        ┆ Generator   │\n",
       "│          ┆             ┆ 06:10:00     ┆              ┆ 06:10:00     ┆              ┆ bearing     │\n",
       "│          ┆             ┆              ┆              ┆              ┆              ┆ failure     │\n",
       "└──────────┴─────────────┴──────────────┴──────────────┴──────────────┴──────────────┴─────────────┘"
      ]
     },
     "execution_count": 15,
     "metadata": {},
     "output_type": "execute_result"
    }
   ],
   "source": [
    "wind_farm_a['event_info'].head()"
   ]
  },
  {
   "cell_type": "code",
   "execution_count": 17,
   "metadata": {},
   "outputs": [
    {
     "data": {
      "text/html": [
       "<div><style>\n",
       ".dataframe > thead > tr,\n",
       ".dataframe > tbody > tr {\n",
       "  text-align: right;\n",
       "  white-space: pre-wrap;\n",
       "}\n",
       "</style>\n",
       "<small>shape: (5, 6)</small><table border=\"1\" class=\"dataframe\"><thead><tr><th>sensor_name</th><th>statistics_type</th><th>description</th><th>unit</th><th>is_angle</th><th>is_counter</th></tr><tr><td>str</td><td>str</td><td>str</td><td>str</td><td>bool</td><td>bool</td></tr></thead><tbody><tr><td>&quot;sensor_0&quot;</td><td>&quot;average&quot;</td><td>&quot;Ambient temperature&quot;</td><td>&quot;°C&quot;</td><td>false</td><td>false</td></tr><tr><td>&quot;sensor_1&quot;</td><td>&quot;average&quot;</td><td>&quot;Wind absolute direction&quot;</td><td>&quot;°&quot;</td><td>true</td><td>false</td></tr><tr><td>&quot;sensor_2&quot;</td><td>&quot;average&quot;</td><td>&quot;Wind relative direction&quot;</td><td>&quot;°&quot;</td><td>true</td><td>false</td></tr><tr><td>&quot;wind_speed_3&quot;</td><td>&quot;maximum,minimum,average,std_de…</td><td>&quot;Windspeed&quot;</td><td>&quot;m/s&quot;</td><td>false</td><td>false</td></tr><tr><td>&quot;wind_speed_4&quot;</td><td>&quot;average&quot;</td><td>&quot;Estimated windspeed&quot;</td><td>&quot;m/s&quot;</td><td>false</td><td>false</td></tr></tbody></table></div>"
      ],
      "text/plain": [
       "shape: (5, 6)\n",
       "┌──────────────┬──────────────────────────┬─────────────────────────┬──────┬──────────┬────────────┐\n",
       "│ sensor_name  ┆ statistics_type          ┆ description             ┆ unit ┆ is_angle ┆ is_counter │\n",
       "│ ---          ┆ ---                      ┆ ---                     ┆ ---  ┆ ---      ┆ ---        │\n",
       "│ str          ┆ str                      ┆ str                     ┆ str  ┆ bool     ┆ bool       │\n",
       "╞══════════════╪══════════════════════════╪═════════════════════════╪══════╪══════════╪════════════╡\n",
       "│ sensor_0     ┆ average                  ┆ Ambient temperature     ┆ °C   ┆ false    ┆ false      │\n",
       "│ sensor_1     ┆ average                  ┆ Wind absolute direction ┆ °    ┆ true     ┆ false      │\n",
       "│ sensor_2     ┆ average                  ┆ Wind relative direction ┆ °    ┆ true     ┆ false      │\n",
       "│ wind_speed_3 ┆ maximum,minimum,average, ┆ Windspeed               ┆ m/s  ┆ false    ┆ false      │\n",
       "│              ┆ std_de…                  ┆                         ┆      ┆          ┆            │\n",
       "│ wind_speed_4 ┆ average                  ┆ Estimated windspeed     ┆ m/s  ┆ false    ┆ false      │\n",
       "└──────────────┴──────────────────────────┴─────────────────────────┴──────┴──────────┴────────────┘"
      ]
     },
     "execution_count": 17,
     "metadata": {},
     "output_type": "execute_result"
    }
   ],
   "source": [
    "wind_farm_a['feature_description'].head()"
   ]
  },
  {
   "cell_type": "markdown",
   "metadata": {},
   "source": []
  }
 ],
 "metadata": {
  "kernelspec": {
   "display_name": "summer_sandialabs",
   "language": "python",
   "name": "python3"
  },
  "language_info": {
   "codemirror_mode": {
    "name": "ipython",
    "version": 3
   },
   "file_extension": ".py",
   "mimetype": "text/x-python",
   "name": "python",
   "nbconvert_exporter": "python",
   "pygments_lexer": "ipython3",
   "version": "3.10.13"
  }
 },
 "nbformat": 4,
 "nbformat_minor": 2
}
